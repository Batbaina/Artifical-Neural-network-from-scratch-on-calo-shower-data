{
 "cells": [
  {
   "cell_type": "markdown",
   "id": "imported-ecology",
   "metadata": {},
   "source": [
    "### Machine learning : Artifical neural network (ANN) from Scrath"
   ]
  },
  {
   "cell_type": "code",
   "execution_count": 199,
   "id": "sticky-whale",
   "metadata": {},
   "outputs": [],
   "source": [
    "#Import the libraries\n",
    "import sys, os\n",
    "import numpy as np\n",
    "import pandas as pd"
   ]
  },
  {
   "cell_type": "markdown",
   "id": "hundred-strengthening",
   "metadata": {},
   "source": [
    "### 1.1 Let's get and load the data. "
   ]
  },
  {
   "cell_type": "code",
   "execution_count": 200,
   "id": "coated-token",
   "metadata": {},
   "outputs": [],
   "source": [
    "#Load the data set\n",
    "df=pd.read_csv('calo_shower_data.csv')"
   ]
  },
  {
   "cell_type": "code",
   "execution_count": 201,
   "id": "minor-lending",
   "metadata": {},
   "outputs": [
    {
     "data": {
      "text/html": [
       "<div>\n",
       "<style scoped>\n",
       "    .dataframe tbody tr th:only-of-type {\n",
       "        vertical-align: middle;\n",
       "    }\n",
       "\n",
       "    .dataframe tbody tr th {\n",
       "        vertical-align: top;\n",
       "    }\n",
       "\n",
       "    .dataframe thead th {\n",
       "        text-align: right;\n",
       "    }\n",
       "</style>\n",
       "<table border=\"1\" class=\"dataframe\">\n",
       "  <thead>\n",
       "    <tr style=\"text-align: right;\">\n",
       "      <th></th>\n",
       "      <th>shower_depth</th>\n",
       "      <th>shower_width</th>\n",
       "      <th>type</th>\n",
       "    </tr>\n",
       "  </thead>\n",
       "  <tbody>\n",
       "    <tr>\n",
       "      <th>0</th>\n",
       "      <td>102.726547</td>\n",
       "      <td>41.060509</td>\n",
       "      <td>hadron</td>\n",
       "    </tr>\n",
       "    <tr>\n",
       "      <th>1</th>\n",
       "      <td>55.953644</td>\n",
       "      <td>19.107106</td>\n",
       "      <td>electron</td>\n",
       "    </tr>\n",
       "    <tr>\n",
       "      <th>2</th>\n",
       "      <td>76.237938</td>\n",
       "      <td>21.859595</td>\n",
       "      <td>electron</td>\n",
       "    </tr>\n",
       "    <tr>\n",
       "      <th>3</th>\n",
       "      <td>145.829765</td>\n",
       "      <td>18.478401</td>\n",
       "      <td>hadron</td>\n",
       "    </tr>\n",
       "    <tr>\n",
       "      <th>4</th>\n",
       "      <td>151.974596</td>\n",
       "      <td>33.539821</td>\n",
       "      <td>hadron</td>\n",
       "    </tr>\n",
       "  </tbody>\n",
       "</table>\n",
       "</div>"
      ],
      "text/plain": [
       "   shower_depth  shower_width      type\n",
       "0    102.726547     41.060509    hadron\n",
       "1     55.953644     19.107106  electron\n",
       "2     76.237938     21.859595  electron\n",
       "3    145.829765     18.478401    hadron\n",
       "4    151.974596     33.539821    hadron"
      ]
     },
     "execution_count": 201,
     "metadata": {},
     "output_type": "execute_result"
    }
   ],
   "source": [
    "#The first elements of the data set\n",
    "df.head()"
   ]
  },
  {
   "cell_type": "code",
   "execution_count": 230,
   "id": "functional-binary",
   "metadata": {},
   "outputs": [
    {
     "data": {
      "text/plain": [
       "Index(['shower_depth', 'shower_width', 'type', 'shower_depth_scaled',\n",
       "       'shower_width_scaled', 'x0', 'y'],\n",
       "      dtype='object')"
      ]
     },
     "execution_count": 230,
     "metadata": {},
     "output_type": "execute_result"
    }
   ],
   "source": [
    "#The columns of the data set\n",
    "df.columns"
   ]
  },
  {
   "cell_type": "markdown",
   "id": "random-thailand",
   "metadata": {},
   "source": [
    "The columns are :  shower_depth, shower_width, type , the columns that stores the labels (targets) is type"
   ]
  },
  {
   "cell_type": "markdown",
   "id": "fancy-boring",
   "metadata": {},
   "source": [
    "### 1.2 The number of samples are "
   ]
  },
  {
   "cell_type": "code",
   "execution_count": 231,
   "id": "economic-transition",
   "metadata": {},
   "outputs": [
    {
     "data": {
      "text/plain": [
       "(100000, 7)"
      ]
     },
     "execution_count": 231,
     "metadata": {},
     "output_type": "execute_result"
    }
   ],
   "source": [
    "# the number of samples are \n",
    "df.shape"
   ]
  },
  {
   "cell_type": "markdown",
   "id": "needed-account",
   "metadata": {},
   "source": [
    "### 2.2 Standarization \n",
    "Let's create for each input feature an extra column in the dataframe to rescale it to a distribution of zero-mean and unit-variance. To see statistical information on a dataframe, a convenient method is:"
   ]
  },
  {
   "cell_type": "code",
   "execution_count": 219,
   "id": "burning-comfort",
   "metadata": {},
   "outputs": [
    {
     "data": {
      "text/html": [
       "<div>\n",
       "<style scoped>\n",
       "    .dataframe tbody tr th:only-of-type {\n",
       "        vertical-align: middle;\n",
       "    }\n",
       "\n",
       "    .dataframe tbody tr th {\n",
       "        vertical-align: top;\n",
       "    }\n",
       "\n",
       "    .dataframe thead th {\n",
       "        text-align: right;\n",
       "    }\n",
       "</style>\n",
       "<table border=\"1\" class=\"dataframe\">\n",
       "  <thead>\n",
       "    <tr style=\"text-align: right;\">\n",
       "      <th></th>\n",
       "      <th>shower_depth</th>\n",
       "      <th>shower_width</th>\n",
       "      <th>shower_depth_scaled</th>\n",
       "      <th>shower_width_scaled</th>\n",
       "      <th>x0</th>\n",
       "      <th>y</th>\n",
       "    </tr>\n",
       "  </thead>\n",
       "  <tbody>\n",
       "    <tr>\n",
       "      <th>count</th>\n",
       "      <td>100000.000000</td>\n",
       "      <td>100000.000000</td>\n",
       "      <td>1.000000e+05</td>\n",
       "      <td>1.000000e+05</td>\n",
       "      <td>100000.0</td>\n",
       "      <td>100000.000000</td>\n",
       "    </tr>\n",
       "    <tr>\n",
       "      <th>mean</th>\n",
       "      <td>99.847703</td>\n",
       "      <td>25.060322</td>\n",
       "      <td>-2.048417e-14</td>\n",
       "      <td>3.273701e-14</td>\n",
       "      <td>1.0</td>\n",
       "      <td>0.500000</td>\n",
       "    </tr>\n",
       "    <tr>\n",
       "      <th>std</th>\n",
       "      <td>31.360512</td>\n",
       "      <td>9.073636</td>\n",
       "      <td>1.000000e+00</td>\n",
       "      <td>1.000000e+00</td>\n",
       "      <td>0.0</td>\n",
       "      <td>0.500003</td>\n",
       "    </tr>\n",
       "    <tr>\n",
       "      <th>min</th>\n",
       "      <td>0.013479</td>\n",
       "      <td>0.139829</td>\n",
       "      <td>-3.183437e+00</td>\n",
       "      <td>-2.746473e+00</td>\n",
       "      <td>1.0</td>\n",
       "      <td>0.000000</td>\n",
       "    </tr>\n",
       "    <tr>\n",
       "      <th>25%</th>\n",
       "      <td>80.005289</td>\n",
       "      <td>18.726105</td>\n",
       "      <td>-6.327197e-01</td>\n",
       "      <td>-6.980902e-01</td>\n",
       "      <td>1.0</td>\n",
       "      <td>0.000000</td>\n",
       "    </tr>\n",
       "    <tr>\n",
       "      <th>50%</th>\n",
       "      <td>97.648121</td>\n",
       "      <td>22.890813</td>\n",
       "      <td>-7.013857e-02</td>\n",
       "      <td>-2.391003e-01</td>\n",
       "      <td>1.0</td>\n",
       "      <td>0.500000</td>\n",
       "    </tr>\n",
       "    <tr>\n",
       "      <th>75%</th>\n",
       "      <td>121.048161</td>\n",
       "      <td>30.209608</td>\n",
       "      <td>6.760240e-01</td>\n",
       "      <td>5.674998e-01</td>\n",
       "      <td>1.0</td>\n",
       "      <td>1.000000</td>\n",
       "    </tr>\n",
       "    <tr>\n",
       "      <th>max</th>\n",
       "      <td>222.651768</td>\n",
       "      <td>73.082693</td>\n",
       "      <td>3.915882e+00</td>\n",
       "      <td>5.292517e+00</td>\n",
       "      <td>1.0</td>\n",
       "      <td>1.000000</td>\n",
       "    </tr>\n",
       "  </tbody>\n",
       "</table>\n",
       "</div>"
      ],
      "text/plain": [
       "        shower_depth   shower_width  shower_depth_scaled  shower_width_scaled  \\\n",
       "count  100000.000000  100000.000000         1.000000e+05         1.000000e+05   \n",
       "mean       99.847703      25.060322        -2.048417e-14         3.273701e-14   \n",
       "std        31.360512       9.073636         1.000000e+00         1.000000e+00   \n",
       "min         0.013479       0.139829        -3.183437e+00        -2.746473e+00   \n",
       "25%        80.005289      18.726105        -6.327197e-01        -6.980902e-01   \n",
       "50%        97.648121      22.890813        -7.013857e-02        -2.391003e-01   \n",
       "75%       121.048161      30.209608         6.760240e-01         5.674998e-01   \n",
       "max       222.651768      73.082693         3.915882e+00         5.292517e+00   \n",
       "\n",
       "             x0              y  \n",
       "count  100000.0  100000.000000  \n",
       "mean        1.0       0.500000  \n",
       "std         0.0       0.500003  \n",
       "min         1.0       0.000000  \n",
       "25%         1.0       0.000000  \n",
       "50%         1.0       0.500000  \n",
       "75%         1.0       1.000000  \n",
       "max         1.0       1.000000  "
      ]
     },
     "execution_count": 219,
     "metadata": {},
     "output_type": "execute_result"
    }
   ],
   "source": [
    "df.describe()"
   ]
  },
  {
   "cell_type": "code",
   "execution_count": 220,
   "id": "amended-dublin",
   "metadata": {},
   "outputs": [],
   "source": [
    "MEAN_X1  =df.describe()['shower_depth']['mean']\n",
    "SIGMA_X1 =df.describe()['shower_depth']['std']\n",
    "MEAN_X2  =df.describe()['shower_width']['mean']\n",
    "SIGMA_X2 =df.describe()['shower_width']['std']\n",
    "\n",
    "df['shower_depth_scaled'] = (df['shower_depth']-MEAN_X1)/SIGMA_X1\n",
    "df['shower_width_scaled'] = (df['shower_width']-MEAN_X2)/SIGMA_X2"
   ]
  },
  {
   "cell_type": "code",
   "execution_count": 224,
   "id": "neutral-geneva",
   "metadata": {},
   "outputs": [
    {
     "data": {
      "text/html": [
       "<div>\n",
       "<style scoped>\n",
       "    .dataframe tbody tr th:only-of-type {\n",
       "        vertical-align: middle;\n",
       "    }\n",
       "\n",
       "    .dataframe tbody tr th {\n",
       "        vertical-align: top;\n",
       "    }\n",
       "\n",
       "    .dataframe thead th {\n",
       "        text-align: right;\n",
       "    }\n",
       "</style>\n",
       "<table border=\"1\" class=\"dataframe\">\n",
       "  <thead>\n",
       "    <tr style=\"text-align: right;\">\n",
       "      <th></th>\n",
       "      <th>shower_depth</th>\n",
       "      <th>shower_width</th>\n",
       "      <th>type</th>\n",
       "      <th>shower_depth_scaled</th>\n",
       "      <th>shower_width_scaled</th>\n",
       "      <th>x0</th>\n",
       "      <th>y</th>\n",
       "    </tr>\n",
       "  </thead>\n",
       "  <tbody>\n",
       "    <tr>\n",
       "      <th>0</th>\n",
       "      <td>102.726547</td>\n",
       "      <td>41.060509</td>\n",
       "      <td>hadron</td>\n",
       "      <td>0.091798</td>\n",
       "      <td>1.763371</td>\n",
       "      <td>1</td>\n",
       "      <td>0</td>\n",
       "    </tr>\n",
       "    <tr>\n",
       "      <th>1</th>\n",
       "      <td>55.953644</td>\n",
       "      <td>19.107106</td>\n",
       "      <td>electron</td>\n",
       "      <td>-1.399660</td>\n",
       "      <td>-0.656100</td>\n",
       "      <td>1</td>\n",
       "      <td>1</td>\n",
       "    </tr>\n",
       "    <tr>\n",
       "      <th>2</th>\n",
       "      <td>76.237938</td>\n",
       "      <td>21.859595</td>\n",
       "      <td>electron</td>\n",
       "      <td>-0.752850</td>\n",
       "      <td>-0.352750</td>\n",
       "      <td>1</td>\n",
       "      <td>1</td>\n",
       "    </tr>\n",
       "    <tr>\n",
       "      <th>3</th>\n",
       "      <td>145.829765</td>\n",
       "      <td>18.478401</td>\n",
       "      <td>hadron</td>\n",
       "      <td>1.466241</td>\n",
       "      <td>-0.725390</td>\n",
       "      <td>1</td>\n",
       "      <td>0</td>\n",
       "    </tr>\n",
       "    <tr>\n",
       "      <th>4</th>\n",
       "      <td>151.974596</td>\n",
       "      <td>33.539821</td>\n",
       "      <td>hadron</td>\n",
       "      <td>1.662182</td>\n",
       "      <td>0.934520</td>\n",
       "      <td>1</td>\n",
       "      <td>0</td>\n",
       "    </tr>\n",
       "  </tbody>\n",
       "</table>\n",
       "</div>"
      ],
      "text/plain": [
       "   shower_depth  shower_width      type  shower_depth_scaled  \\\n",
       "0    102.726547     41.060509    hadron             0.091798   \n",
       "1     55.953644     19.107106  electron            -1.399660   \n",
       "2     76.237938     21.859595  electron            -0.752850   \n",
       "3    145.829765     18.478401    hadron             1.466241   \n",
       "4    151.974596     33.539821    hadron             1.662182   \n",
       "\n",
       "   shower_width_scaled  x0  y  \n",
       "0             1.763371   1  0  \n",
       "1            -0.656100   1  1  \n",
       "2            -0.352750   1  1  \n",
       "3            -0.725390   1  0  \n",
       "4             0.934520   1  0  "
      ]
     },
     "execution_count": 224,
     "metadata": {},
     "output_type": "execute_result"
    }
   ],
   "source": [
    "df.head()"
   ]
  },
  {
   "cell_type": "markdown",
   "id": "variable-auction",
   "metadata": {},
   "source": [
    "### 3.1 Adding x0 column \n",
    "Add a column x0 to the dataframe df filled entirely with ones."
   ]
  },
  {
   "cell_type": "code",
   "execution_count": 207,
   "id": "least-freight",
   "metadata": {},
   "outputs": [],
   "source": [
    "df['x0']=1"
   ]
  },
  {
   "cell_type": "code",
   "execution_count": 232,
   "id": "automatic-reggae",
   "metadata": {},
   "outputs": [
    {
     "data": {
      "text/html": [
       "<div>\n",
       "<style scoped>\n",
       "    .dataframe tbody tr th:only-of-type {\n",
       "        vertical-align: middle;\n",
       "    }\n",
       "\n",
       "    .dataframe tbody tr th {\n",
       "        vertical-align: top;\n",
       "    }\n",
       "\n",
       "    .dataframe thead th {\n",
       "        text-align: right;\n",
       "    }\n",
       "</style>\n",
       "<table border=\"1\" class=\"dataframe\">\n",
       "  <thead>\n",
       "    <tr style=\"text-align: right;\">\n",
       "      <th></th>\n",
       "      <th>shower_depth</th>\n",
       "      <th>shower_width</th>\n",
       "      <th>type</th>\n",
       "      <th>shower_depth_scaled</th>\n",
       "      <th>shower_width_scaled</th>\n",
       "      <th>x0</th>\n",
       "      <th>y</th>\n",
       "    </tr>\n",
       "  </thead>\n",
       "  <tbody>\n",
       "    <tr>\n",
       "      <th>0</th>\n",
       "      <td>102.726547</td>\n",
       "      <td>41.060509</td>\n",
       "      <td>hadron</td>\n",
       "      <td>0.091798</td>\n",
       "      <td>1.763371</td>\n",
       "      <td>1</td>\n",
       "      <td>0</td>\n",
       "    </tr>\n",
       "    <tr>\n",
       "      <th>1</th>\n",
       "      <td>55.953644</td>\n",
       "      <td>19.107106</td>\n",
       "      <td>electron</td>\n",
       "      <td>-1.399660</td>\n",
       "      <td>-0.656100</td>\n",
       "      <td>1</td>\n",
       "      <td>1</td>\n",
       "    </tr>\n",
       "    <tr>\n",
       "      <th>2</th>\n",
       "      <td>76.237938</td>\n",
       "      <td>21.859595</td>\n",
       "      <td>electron</td>\n",
       "      <td>-0.752850</td>\n",
       "      <td>-0.352750</td>\n",
       "      <td>1</td>\n",
       "      <td>1</td>\n",
       "    </tr>\n",
       "    <tr>\n",
       "      <th>3</th>\n",
       "      <td>145.829765</td>\n",
       "      <td>18.478401</td>\n",
       "      <td>hadron</td>\n",
       "      <td>1.466241</td>\n",
       "      <td>-0.725390</td>\n",
       "      <td>1</td>\n",
       "      <td>0</td>\n",
       "    </tr>\n",
       "    <tr>\n",
       "      <th>4</th>\n",
       "      <td>151.974596</td>\n",
       "      <td>33.539821</td>\n",
       "      <td>hadron</td>\n",
       "      <td>1.662182</td>\n",
       "      <td>0.934520</td>\n",
       "      <td>1</td>\n",
       "      <td>0</td>\n",
       "    </tr>\n",
       "  </tbody>\n",
       "</table>\n",
       "</div>"
      ],
      "text/plain": [
       "   shower_depth  shower_width      type  shower_depth_scaled  \\\n",
       "0    102.726547     41.060509    hadron             0.091798   \n",
       "1     55.953644     19.107106  electron            -1.399660   \n",
       "2     76.237938     21.859595  electron            -0.752850   \n",
       "3    145.829765     18.478401    hadron             1.466241   \n",
       "4    151.974596     33.539821    hadron             1.662182   \n",
       "\n",
       "   shower_width_scaled  x0  y  \n",
       "0             1.763371   1  0  \n",
       "1            -0.656100   1  1  \n",
       "2            -0.352750   1  1  \n",
       "3            -0.725390   1  0  \n",
       "4             0.934520   1  0  "
      ]
     },
     "execution_count": 232,
     "metadata": {},
     "output_type": "execute_result"
    }
   ],
   "source": [
    "df.head()"
   ]
  },
  {
   "cell_type": "markdown",
   "id": "pressed-coral",
   "metadata": {},
   "source": [
    "###  3.2 Matrix X \n",
    "Let's create a new dataframe X that contain the x0 column and the columns of the two scaled input features."
   ]
  },
  {
   "cell_type": "code",
   "execution_count": 209,
   "id": "adaptive-lodge",
   "metadata": {},
   "outputs": [],
   "source": [
    "X=df[['x0','shower_depth_scaled','shower_width_scaled']]"
   ]
  },
  {
   "cell_type": "code",
   "execution_count": 226,
   "id": "anonymous-kazakhstan",
   "metadata": {},
   "outputs": [
    {
     "data": {
      "text/html": [
       "<div>\n",
       "<style scoped>\n",
       "    .dataframe tbody tr th:only-of-type {\n",
       "        vertical-align: middle;\n",
       "    }\n",
       "\n",
       "    .dataframe tbody tr th {\n",
       "        vertical-align: top;\n",
       "    }\n",
       "\n",
       "    .dataframe thead th {\n",
       "        text-align: right;\n",
       "    }\n",
       "</style>\n",
       "<table border=\"1\" class=\"dataframe\">\n",
       "  <thead>\n",
       "    <tr style=\"text-align: right;\">\n",
       "      <th></th>\n",
       "      <th>x0</th>\n",
       "      <th>shower_depth_scaled</th>\n",
       "      <th>shower_width_scaled</th>\n",
       "    </tr>\n",
       "  </thead>\n",
       "  <tbody>\n",
       "    <tr>\n",
       "      <th>0</th>\n",
       "      <td>1</td>\n",
       "      <td>0.091798</td>\n",
       "      <td>1.763371</td>\n",
       "    </tr>\n",
       "    <tr>\n",
       "      <th>1</th>\n",
       "      <td>1</td>\n",
       "      <td>-1.399660</td>\n",
       "      <td>-0.656100</td>\n",
       "    </tr>\n",
       "    <tr>\n",
       "      <th>2</th>\n",
       "      <td>1</td>\n",
       "      <td>-0.752850</td>\n",
       "      <td>-0.352750</td>\n",
       "    </tr>\n",
       "    <tr>\n",
       "      <th>3</th>\n",
       "      <td>1</td>\n",
       "      <td>1.466241</td>\n",
       "      <td>-0.725390</td>\n",
       "    </tr>\n",
       "    <tr>\n",
       "      <th>4</th>\n",
       "      <td>1</td>\n",
       "      <td>1.662182</td>\n",
       "      <td>0.934520</td>\n",
       "    </tr>\n",
       "  </tbody>\n",
       "</table>\n",
       "</div>"
      ],
      "text/plain": [
       "   x0  shower_depth_scaled  shower_width_scaled\n",
       "0   1             0.091798             1.763371\n",
       "1   1            -1.399660            -0.656100\n",
       "2   1            -0.752850            -0.352750\n",
       "3   1             1.466241            -0.725390\n",
       "4   1             1.662182             0.934520"
      ]
     },
     "execution_count": 226,
     "metadata": {},
     "output_type": "execute_result"
    }
   ],
   "source": [
    "X.head()"
   ]
  },
  {
   "cell_type": "markdown",
   "id": "searching-crown",
   "metadata": {},
   "source": [
    "### 3.3 Labels to binary\n",
    "The target column contains alphabetical labels. Let's create an extra column in your dataframe called y containing 1 if the sample is an electron shower and 0 if it is a hadron one."
   ]
  },
  {
   "cell_type": "code",
   "execution_count": 227,
   "id": "discrete-arbitration",
   "metadata": {},
   "outputs": [
    {
     "data": {
      "text/html": [
       "<div>\n",
       "<style scoped>\n",
       "    .dataframe tbody tr th:only-of-type {\n",
       "        vertical-align: middle;\n",
       "    }\n",
       "\n",
       "    .dataframe tbody tr th {\n",
       "        vertical-align: top;\n",
       "    }\n",
       "\n",
       "    .dataframe thead th {\n",
       "        text-align: right;\n",
       "    }\n",
       "</style>\n",
       "<table border=\"1\" class=\"dataframe\">\n",
       "  <thead>\n",
       "    <tr style=\"text-align: right;\">\n",
       "      <th></th>\n",
       "      <th>shower_depth</th>\n",
       "      <th>shower_width</th>\n",
       "      <th>type</th>\n",
       "      <th>shower_depth_scaled</th>\n",
       "      <th>shower_width_scaled</th>\n",
       "      <th>x0</th>\n",
       "      <th>y</th>\n",
       "    </tr>\n",
       "  </thead>\n",
       "  <tbody>\n",
       "    <tr>\n",
       "      <th>0</th>\n",
       "      <td>102.726547</td>\n",
       "      <td>41.060509</td>\n",
       "      <td>hadron</td>\n",
       "      <td>0.091798</td>\n",
       "      <td>1.763371</td>\n",
       "      <td>1</td>\n",
       "      <td>0</td>\n",
       "    </tr>\n",
       "    <tr>\n",
       "      <th>1</th>\n",
       "      <td>55.953644</td>\n",
       "      <td>19.107106</td>\n",
       "      <td>electron</td>\n",
       "      <td>-1.399660</td>\n",
       "      <td>-0.656100</td>\n",
       "      <td>1</td>\n",
       "      <td>1</td>\n",
       "    </tr>\n",
       "    <tr>\n",
       "      <th>2</th>\n",
       "      <td>76.237938</td>\n",
       "      <td>21.859595</td>\n",
       "      <td>electron</td>\n",
       "      <td>-0.752850</td>\n",
       "      <td>-0.352750</td>\n",
       "      <td>1</td>\n",
       "      <td>1</td>\n",
       "    </tr>\n",
       "    <tr>\n",
       "      <th>3</th>\n",
       "      <td>145.829765</td>\n",
       "      <td>18.478401</td>\n",
       "      <td>hadron</td>\n",
       "      <td>1.466241</td>\n",
       "      <td>-0.725390</td>\n",
       "      <td>1</td>\n",
       "      <td>0</td>\n",
       "    </tr>\n",
       "    <tr>\n",
       "      <th>4</th>\n",
       "      <td>151.974596</td>\n",
       "      <td>33.539821</td>\n",
       "      <td>hadron</td>\n",
       "      <td>1.662182</td>\n",
       "      <td>0.934520</td>\n",
       "      <td>1</td>\n",
       "      <td>0</td>\n",
       "    </tr>\n",
       "  </tbody>\n",
       "</table>\n",
       "</div>"
      ],
      "text/plain": [
       "   shower_depth  shower_width      type  shower_depth_scaled  \\\n",
       "0    102.726547     41.060509    hadron             0.091798   \n",
       "1     55.953644     19.107106  electron            -1.399660   \n",
       "2     76.237938     21.859595  electron            -0.752850   \n",
       "3    145.829765     18.478401    hadron             1.466241   \n",
       "4    151.974596     33.539821    hadron             1.662182   \n",
       "\n",
       "   shower_width_scaled  x0  y  \n",
       "0             1.763371   1  0  \n",
       "1            -0.656100   1  1  \n",
       "2            -0.352750   1  1  \n",
       "3            -0.725390   1  0  \n",
       "4             0.934520   1  0  "
      ]
     },
     "execution_count": 227,
     "metadata": {},
     "output_type": "execute_result"
    }
   ],
   "source": [
    "df.head()"
   ]
  },
  {
   "cell_type": "code",
   "execution_count": 212,
   "id": "charitable-specialist",
   "metadata": {},
   "outputs": [],
   "source": [
    "df['y']=0"
   ]
  },
  {
   "cell_type": "code",
   "execution_count": 213,
   "id": "animal-sunglasses",
   "metadata": {},
   "outputs": [],
   "source": [
    "df.loc[ df[\"type\"]==\"electron\",\"y\" ]=1"
   ]
  },
  {
   "cell_type": "code",
   "execution_count": 229,
   "id": "emerging-joyce",
   "metadata": {},
   "outputs": [
    {
     "data": {
      "text/html": [
       "<div>\n",
       "<style scoped>\n",
       "    .dataframe tbody tr th:only-of-type {\n",
       "        vertical-align: middle;\n",
       "    }\n",
       "\n",
       "    .dataframe tbody tr th {\n",
       "        vertical-align: top;\n",
       "    }\n",
       "\n",
       "    .dataframe thead th {\n",
       "        text-align: right;\n",
       "    }\n",
       "</style>\n",
       "<table border=\"1\" class=\"dataframe\">\n",
       "  <thead>\n",
       "    <tr style=\"text-align: right;\">\n",
       "      <th></th>\n",
       "      <th>shower_depth</th>\n",
       "      <th>shower_width</th>\n",
       "      <th>type</th>\n",
       "      <th>shower_depth_scaled</th>\n",
       "      <th>shower_width_scaled</th>\n",
       "      <th>x0</th>\n",
       "      <th>y</th>\n",
       "    </tr>\n",
       "  </thead>\n",
       "  <tbody>\n",
       "    <tr>\n",
       "      <th>0</th>\n",
       "      <td>102.726547</td>\n",
       "      <td>41.060509</td>\n",
       "      <td>hadron</td>\n",
       "      <td>0.091798</td>\n",
       "      <td>1.763371</td>\n",
       "      <td>1</td>\n",
       "      <td>0</td>\n",
       "    </tr>\n",
       "    <tr>\n",
       "      <th>1</th>\n",
       "      <td>55.953644</td>\n",
       "      <td>19.107106</td>\n",
       "      <td>electron</td>\n",
       "      <td>-1.399660</td>\n",
       "      <td>-0.656100</td>\n",
       "      <td>1</td>\n",
       "      <td>1</td>\n",
       "    </tr>\n",
       "    <tr>\n",
       "      <th>2</th>\n",
       "      <td>76.237938</td>\n",
       "      <td>21.859595</td>\n",
       "      <td>electron</td>\n",
       "      <td>-0.752850</td>\n",
       "      <td>-0.352750</td>\n",
       "      <td>1</td>\n",
       "      <td>1</td>\n",
       "    </tr>\n",
       "    <tr>\n",
       "      <th>3</th>\n",
       "      <td>145.829765</td>\n",
       "      <td>18.478401</td>\n",
       "      <td>hadron</td>\n",
       "      <td>1.466241</td>\n",
       "      <td>-0.725390</td>\n",
       "      <td>1</td>\n",
       "      <td>0</td>\n",
       "    </tr>\n",
       "    <tr>\n",
       "      <th>4</th>\n",
       "      <td>151.974596</td>\n",
       "      <td>33.539821</td>\n",
       "      <td>hadron</td>\n",
       "      <td>1.662182</td>\n",
       "      <td>0.934520</td>\n",
       "      <td>1</td>\n",
       "      <td>0</td>\n",
       "    </tr>\n",
       "  </tbody>\n",
       "</table>\n",
       "</div>"
      ],
      "text/plain": [
       "   shower_depth  shower_width      type  shower_depth_scaled  \\\n",
       "0    102.726547     41.060509    hadron             0.091798   \n",
       "1     55.953644     19.107106  electron            -1.399660   \n",
       "2     76.237938     21.859595  electron            -0.752850   \n",
       "3    145.829765     18.478401    hadron             1.466241   \n",
       "4    151.974596     33.539821    hadron             1.662182   \n",
       "\n",
       "   shower_width_scaled  x0  y  \n",
       "0             1.763371   1  0  \n",
       "1            -0.656100   1  1  \n",
       "2            -0.352750   1  1  \n",
       "3            -0.725390   1  0  \n",
       "4             0.934520   1  0  "
      ]
     },
     "execution_count": 229,
     "metadata": {},
     "output_type": "execute_result"
    }
   ],
   "source": [
    "df.head()"
   ]
  },
  {
   "cell_type": "markdown",
   "id": "federal-instrument",
   "metadata": {},
   "source": [
    "### 3.4 Vector y\n",
    "Extract from the dataframe this y column with the binary labels in a separate dataframe y."
   ]
  },
  {
   "cell_type": "code",
   "execution_count": 215,
   "id": "armed-camcorder",
   "metadata": {},
   "outputs": [],
   "source": [
    "y=df['y']"
   ]
  },
  {
   "cell_type": "markdown",
   "id": "selected-treat",
   "metadata": {},
   "source": [
    "4. DataFrames to Numpy"
   ]
  },
  {
   "cell_type": "code",
   "execution_count": 216,
   "id": "later-nickname",
   "metadata": {},
   "outputs": [],
   "source": [
    "from sklearn.model_selection import train_test_split\n",
    "\n",
    "X_train_df, X_test_df, y_train_df, y_test_df = train_test_split( X, y, test_size=0.2, random_state=42)\n",
    "\n",
    "X_train = X_train_df.to_numpy() ; y_train = y_train_df.to_numpy()\n",
    "X_test  = X_test_df.to_numpy()  ; y_test  = y_test_df.to_numpy()"
   ]
  },
  {
   "cell_type": "code",
   "execution_count": 217,
   "id": "inappropriate-zealand",
   "metadata": {},
   "outputs": [
    {
     "data": {
      "text/plain": [
       "((80000, 3), (80000,), (20000, 3), (20000,))"
      ]
     },
     "execution_count": 217,
     "metadata": {},
     "output_type": "execute_result"
    }
   ],
   "source": [
    "X_train.shape, y_train.shape, X_test.shape,y_test.shape"
   ]
  },
  {
   "cell_type": "markdown",
   "id": "invalid-chance",
   "metadata": {},
   "source": [
    "The  dataset is divided in 80\\% training set and and 20\\% in test set."
   ]
  },
  {
   "cell_type": "markdown",
   "id": "regulation-inventory",
   "metadata": {},
   "source": [
    "4.2 Test size\n",
    "Looking at the shapes, explain what test_size represents."
   ]
  },
  {
   "cell_type": "markdown",
   "id": "public-tract",
   "metadata": {},
   "source": [
    "The test_size=0.2,  represent the 20\\% of the data taking for the testing data set."
   ]
  },
  {
   "cell_type": "markdown",
   "id": "another-paris",
   "metadata": {},
   "source": [
    "The number of tes"
   ]
  },
  {
   "cell_type": "markdown",
   "id": "architectural-clark",
   "metadata": {},
   "source": [
    "### 5. Useful Functions"
   ]
  },
  {
   "cell_type": "markdown",
   "id": "regional-nothing",
   "metadata": {},
   "source": [
    "#### 5.1 Linear Sum"
   ]
  },
  {
   "cell_type": "code",
   "execution_count": 234,
   "id": "supposed-collectible",
   "metadata": {},
   "outputs": [],
   "source": [
    "#The function of the linear model\n",
    "def lin_sum(X, thetas):\n",
    "    return np.sum(X*thetas)"
   ]
  },
  {
   "cell_type": "markdown",
   "id": "corrected-revolution",
   "metadata": {},
   "source": [
    "#### 5.2 Logistic Function\n",
    "Let's write a function computing the logistic function:"
   ]
  },
  {
   "cell_type": "code",
   "execution_count": 235,
   "id": "extraordinary-tomato",
   "metadata": {},
   "outputs": [],
   "source": [
    "#the logistic function\n",
    "def sigmoid(z):\n",
    "    return 1/(1+np.exp(-z))"
   ]
  },
  {
   "cell_type": "markdown",
   "id": "popular-termination",
   "metadata": {},
   "source": [
    "#### 5.3 Hypothesis Function\n",
    "Using the two functions above, write the hypothesis function \n"
   ]
  },
  {
   "cell_type": "code",
   "execution_count": 236,
   "id": "headed-talent",
   "metadata": {},
   "outputs": [],
   "source": [
    "\n",
    "#the hypothesis function \n",
    "def h_class(X, thetas):\n",
    "    z = np.dot(X, thetas)\n",
    "    return sigmoid(z)"
   ]
  },
  {
   "cell_type": "markdown",
   "id": "express-webmaster",
   "metadata": {},
   "source": [
    "#### 5.4 Partial Derivatives of Cross-Entropy Cost Function"
   ]
  },
  {
   "cell_type": "code",
   "execution_count": 237,
   "id": "cardiac-drinking",
   "metadata": {},
   "outputs": [],
   "source": [
    "#Partial Derivatives of Cross-Entropy Cost Function\n",
    "def derivatives_cross_entropy(y_preds, y_obs, x_feature):\n",
    "\n",
    "    sum_deriv_J_theta = np.dot((y_preds-y_obs),x_feature)\n",
    "   \n",
    "    return sum_deriv_J_theta/len(x_feature)"
   ]
  },
  {
   "cell_type": "markdown",
   "id": "automatic-showcase",
   "metadata": {},
   "source": [
    "#### 5.5 Cross-Entropy Cost Function\n",
    "Let's write a function computing the total cost from the 2D column vectors of predictions and observations:\n"
   ]
  },
  {
   "cell_type": "code",
   "execution_count": 239,
   "id": "vietnamese-catch",
   "metadata": {},
   "outputs": [],
   "source": [
    "# Cross-Entropy Cost Function\n",
    "\n",
    "def cross_entropy_cost(y_vals, y_preds):\n",
    "   \n",
    "    cost_function_1 = np.dot(y_vals, np.log(y_preds))\n",
    "    cost_function_2 = np.dot((1-y_vals), np.log(1-y_preds))\n",
    "   \n",
    "    return -(cost_function_1+cost_function_2)/len(y_vals)"
   ]
  },
  {
   "cell_type": "code",
   "execution_count": 265,
   "id": "accredited-interstate",
   "metadata": {},
   "outputs": [
    {
     "data": {
      "text/plain": [
       "5"
      ]
     },
     "execution_count": 265,
     "metadata": {},
     "output_type": "execute_result"
    }
   ],
   "source": []
  },
  {
   "cell_type": "markdown",
   "id": "municipal-belly",
   "metadata": {},
   "source": [
    "### 6. Classifier"
   ]
  },
  {
   "cell_type": "code",
   "execution_count": 240,
   "id": "fabulous-elite",
   "metadata": {},
   "outputs": [
    {
     "name": "stdout",
     "output_type": "stream",
     "text": [
      "Starting gradient descent\n",
      "\n",
      "[10]\tt0 = 0.6008  t1 = -0.0362  t2 = -0.0362  Cost = 0.73916906  dJ0 = 0.1487  dJ1 = 0.3219  dJ2 = 0.2781\n",
      "[20]\tt0 = 0.4716  t1 = -0.3094  t2 = -0.3094  Cost = 0.58575680  dJ0 = 0.1136  dJ1 = 0.2378  dJ2 = 0.1981\n",
      "[30]\tt0 = 0.3741  t1 = -0.5145  t2 = -0.5145  Cost = 0.50234266  dJ0 = 0.0857  dJ1 = 0.1820  dJ2 = 0.1451\n",
      "[40]\tt0 = 0.2996  t1 = -0.6754  t2 = -0.6754  Cost = 0.45314803  dJ0 = 0.0665  dJ1 = 0.1459  dJ2 = 0.1120\n",
      "[50]\tt0 = 0.2408  t1 = -0.8071  t2 = -0.8071  Cost = 0.42141241  dJ0 = 0.0533  dJ1 = 0.1215  dJ2 = 0.0903\n",
      "[60]\tt0 = 0.1929  t1 = -0.9186  t2 = -0.9186  Cost = 0.39944507  dJ0 = 0.0438  dJ1 = 0.1040  dJ2 = 0.0753\n",
      "[70]\tt0 = 0.1532  t1 = -1.0150  t2 = -1.0150  Cost = 0.38341751  dJ0 = 0.0368  dJ1 = 0.0908  dJ2 = 0.0644\n",
      "[80]\tt0 = 0.1194  t1 = -1.1000  t2 = -1.1000  Cost = 0.37125010  dJ0 = 0.0315  dJ1 = 0.0806  dJ2 = 0.0561\n",
      "[90]\tt0 = 0.0903  t1 = -1.1759  t2 = -1.1759  Cost = 0.36172603  dJ0 = 0.0273  dJ1 = 0.0724  dJ2 = 0.0495\n",
      "[200]\tt0 = -0.0850  t1 = -1.7003  t2 = -1.7003  Cost = 0.32051632  dJ0 = 0.0097  dJ1 = 0.0326  dJ2 = 0.0203\n",
      "[300]\tt0 = -0.1581  t1 = -1.9562  t2 = -1.9562  Cost = 0.31072816  dJ0 = 0.0056  dJ1 = 0.0202  dJ2 = 0.0121\n",
      "[400]\tt0 = -0.2031  t1 = -2.1228  t2 = -2.1228  Cost = 0.30669987  dJ0 = 0.0037  dJ1 = 0.0137  dJ2 = 0.0081\n",
      "[500]\tt0 = -0.2338  t1 = -2.2387  t2 = -2.2387  Cost = 0.30477430  dJ0 = 0.0026  dJ1 = 0.0098  dJ2 = 0.0057\n",
      "\n",
      "End of gradient descent after 500 iterations\n",
      "Optimized thetas:\n",
      "Theta 0 = -0.2338, Theta 1 = -2.2387, Theta 2 = -1.5751\n"
     ]
    }
   ],
   "source": [
    "# Hyperparameters\n",
    "alpha = 0.1# ...\n",
    "N =  500 # ... epochs\n",
    "\n",
    "# Number of features + 1 (number of columns in X)\n",
    "n = X_train.shape[1] # we have n = 3 ...\n",
    "\n",
    "# Initialization of theta *row vector*\n",
    "thetas = np.random.random((3,1))\n",
    "\n",
    "# Storing cost values for train and test datasets\n",
    "costs_train = []\n",
    "costs_test  = []\n",
    "\n",
    "print(\"Starting gradient descent\\n\")\n",
    "\n",
    "# -------------------\n",
    "#   Start iterations\n",
    "# -------------------\n",
    "for i in range(1, N+1):\n",
    "    # Get predictions (hypothesis function)\n",
    "    y_preds = h_class(X_train, thetas)\n",
    "    y_preds_test = h_class(X_test, thetas)\n",
    "\n",
    "    # Calculate and store costs with train and test datasets\n",
    "    J_train = cross_entropy_cost(y_train, y_preds); costs_train.append(J_train)\n",
    "    J_test  = cross_entropy_cost(y_test, y_preds_test); costs_test.append(J_test)\n",
    "\n",
    "    # Get partial derivatives d/dTheta_j\n",
    "    dJ_thetas = np.zeros(shape=(3, 1))\n",
    "    for j in range(3):\n",
    "        dJ_thetas[j,0] = derivatives_cross_entropy(np.transpose(y_preds), y_train, X_train[:, j])\n",
    "\n",
    "      # Calculate new theta parameters:\n",
    "    thetas_new = thetas - alpha*dJ_thetas\n",
    "\n",
    "    # Update the parameters for the next iteration\n",
    "    thetas = thetas_new\n",
    "\n",
    "    # --------------------\n",
    "    #  P R I N T O U T S\n",
    "    # --------------------\n",
    "    # Every 10 iterations and n > 100 every 100 iterations\n",
    "    if (i<100 and i % 10 == 0) or (i>100 and i % 100 == 0):\n",
    "        print('[%d]\\tt0 = %4.4f  t1 = %4.4f  t2 = %4.4f  Cost = %4.8f  dJ0 = %4.4f  dJ1 = %4.4f  dJ2 = %4.4f' %\n",
    "         ( i,   thetas[0,0], thetas[1,0], thetas[1,0],   J_train,  dJ_thetas[0,0],   dJ_thetas[1,0],   dJ_thetas[2,0]))\n",
    "\n",
    "print(f'\\nEnd of gradient descent after {i} iterations')\n",
    "\n",
    "print('Optimized thetas:')\n",
    "print(f'Theta 0 = {thetas[0,0]:.4f}, Theta 1 = {thetas[1,0]:.4f}, Theta 2 = {thetas[2,0]:.4f}')"
   ]
  },
  {
   "cell_type": "markdown",
   "id": "yellow-pasta",
   "metadata": {},
   "source": [
    "#### 7. Plot cost versus epochs\n",
    "Let's use the following macro to plot the variation of the total cost vs the iteration number:"
   ]
  },
  {
   "cell_type": "code",
   "execution_count": 241,
   "id": "extensive-cleaner",
   "metadata": {},
   "outputs": [],
   "source": [
    "def plot_cost_vs_iter(train_costs, test_costs, title=\"Gradient Descent: Cost evolution\"):\n",
    "  \n",
    "  fig, ax = plt.subplots(figsize=(8, 6))\n",
    "  iters = np.arange(1,len(train_costs)+1)\n",
    "\n",
    "  ax.plot(iters, train_costs, color='red', lw=1, label='Training set')\n",
    "  ax.plot(iters, test_costs, color='blue', lw=1, label='Testing set')\n",
    "\n",
    "  ax.set_xlabel(\"Number of iterations\")\n",
    "  ax.set_ylabel(r\"Cost $J(\\theta)$\", rotation=\"horizontal\")\n",
    "  ax.yaxis.set_label_coords(-0.2, 0.5)\n",
    "\n",
    "  ax.legend(loc=\"upper right\", frameon=False)\n",
    "  ax.set_title(title, fontsize=20, pad=22)\n",
    "  plt.show()"
   ]
  },
  {
   "cell_type": "code",
   "execution_count": 242,
   "id": "earlier-quilt",
   "metadata": {},
   "outputs": [
    {
     "data": {
      "image/png": "[encoded data removed]",
      "text/plain": [
       "<Figure size 576x432 with 1 Axes>"
      ]
     },
     "metadata": {
      "needs_background": "light"
     },
     "output_type": "display_data"
    }
   ],
   "source": [
    "plot_cost_vs_iter(costs_train, costs_test)"
   ]
  },
  {
   "cell_type": "markdown",
   "id": "afraid-reason",
   "metadata": {},
   "source": [
    "#### 7.1: Let's describe the plot and give  the fundamental difference between the two series train and test"
   ]
  },
  {
   "cell_type": "markdown",
   "id": "fancy-closing",
   "metadata": {},
   "source": [
    "This plot show the variation of the cost function on trainig data and testing data set. It's show that the curve of the cost function decrease with the number of iterations and we see that before 100 iterations the value of the cost function are the same but at a certain iterations the begin to differentiate but still parallel and convert to a similarlie and sames values "
   ]
  },
  {
   "cell_type": "markdown",
   "id": "australian-stopping",
   "metadata": {},
   "source": [
    "#### 7.2: What would it mean if there would be a bigger gap between the test and training values of the cost?"
   ]
  },
  {
   "cell_type": "markdown",
   "id": "joined-underwear",
   "metadata": {},
   "source": [
    "A gap between training and test costs mean  that the model's performance on the training set may not reflect its effectiveness on new, unseen data. It could be explain by the case of :\n",
    "\n",
    "Overfitting when the model becomes overly complex, tailoring itself excessively to training data intricacies, noise, and outliers. This leads to a continuous decrease in training cost, but a rise or consistently higher test cost, indicating potential struggles with generalization to new, unseen data.\n",
    "\n",
    "Underfitting when the model lacks the capacity to learn from training data, resulting in suboptimal performance on both training and test sets.\n",
    "\n",
    "Data mismatch arises when a significant dissimilarity exists between the distributions of training and test data. If the test set represents a different distribution, the model may face challenges in effective generalization, leading to suboptimal performance on new, unseen data.\n",
    "\n"
   ]
  },
  {
   "cell_type": "markdown",
   "id": "chinese-appearance",
   "metadata": {},
   "source": [
    "### 8. Performance"
   ]
  },
  {
   "cell_type": "code",
   "execution_count": 243,
   "id": "starting-malawi",
   "metadata": {},
   "outputs": [],
   "source": [
    "#The functions to make predictions\n",
    "\n",
    "def make_predictions(thetas, X, y, boundary=0.5):\n",
    "\n",
    "  bin_preds = [1 if value > boundary else 0 for value in h_class(X, np.array(thetas))[:,0] ] \n",
    "\n",
    "  return bin_preds"
   ]
  },
  {
   "cell_type": "code",
   "execution_count": 244,
   "id": "portuguese-gates",
   "metadata": {},
   "outputs": [],
   "source": [
    "preds = make_predictions(thetas, X_test, y_test, 0.5)"
   ]
  },
  {
   "cell_type": "code",
   "execution_count": 245,
   "id": "junior-marijuana",
   "metadata": {},
   "outputs": [],
   "source": [
    "# Turn y_test into 1D array:\n",
    "obs_test = y_test #[:,0]"
   ]
  },
  {
   "cell_type": "markdown",
   "id": "twelve-gabriel",
   "metadata": {},
   "source": [
    "#### 8.1 Accuracy"
   ]
  },
  {
   "cell_type": "code",
   "execution_count": 246,
   "id": "thick-sleeping",
   "metadata": {},
   "outputs": [],
   "source": [
    "#The function to get the accuracy of the model\n",
    "def get_accuracy(obs_values, pred_values):\n",
    "  \n",
    "    # Ensure both arrays have the same length\n",
    "    if len(obs_values) != len(pred_values):\n",
    "        raise ValueError(\"Arrays must have the same length.\")\n",
    "\n",
    "    # Calculate the number of correct predictions\n",
    "    correct_predictions = np.sum(obs_values == pred_values)\n",
    "    \n",
    "\n",
    "    # Calculate accuracy\n",
    "    accuracy = correct_predictions / len(obs_values)\n",
    "\n",
    "    return accuracy"
   ]
  },
  {
   "cell_type": "code",
   "execution_count": 247,
   "id": "incorporated-think",
   "metadata": {},
   "outputs": [
    {
     "name": "stdout",
     "output_type": "stream",
     "text": [
      "0.8818\n"
     ]
    }
   ],
   "source": [
    "print(get_accuracy(obs_test, preds))"
   ]
  },
  {
   "cell_type": "markdown",
   "id": "unavailable-mattress",
   "metadata": {},
   "source": [
    "Accuracy (0.8818) is the ratio of correctly predicted instances to the total instances. It mean that approximately 88.18% of the predictions are correct.\n",
    "A high accuracy score suggests that your model is performing well in terms of overall correctness."
   ]
  },
  {
   "cell_type": "markdown",
   "id": "second-maintenance",
   "metadata": {},
   "source": [
    "#### 8.2 Recall"
   ]
  },
  {
   "cell_type": "code",
   "execution_count": 252,
   "id": "behind-edmonton",
   "metadata": {},
   "outputs": [],
   "source": [
    "#The get  recall function\n",
    "def get_recall(obs_values, pred_values):\n",
    "   \n",
    "    True_positives = sum(obs == 1 and pred == 1 for obs, pred in zip(obs_values, pred_values))\n",
    "   \n",
    "    Actual_positives = sum(obs == 1 for obs in obs_values)\n",
    "   \n",
    "    recall = True_positives / Actual_positives\n",
    "   \n",
    "    return recall\n"
   ]
  },
  {
   "cell_type": "code",
   "execution_count": 253,
   "id": "chubby-granny",
   "metadata": {},
   "outputs": [
    {
     "data": {
      "text/plain": [
       "0.9116288411327576"
      ]
     },
     "execution_count": 253,
     "metadata": {},
     "output_type": "execute_result"
    }
   ],
   "source": [
    "get_recall(obs_test, preds)"
   ]
  },
  {
   "cell_type": "markdown",
   "id": "tropical-ambassador",
   "metadata": {},
   "source": [
    "Recall (0.911427), also known as sensitivity or true positive rate, is the ratio of correctly predicted positive observations to the total actual positives.\n",
    "It's approximately 91.14% of the actual positive instances are correctly identified by the model.\n",
    "In the context this case , high recall value indicates that the model is effective at capturing most of the positive instances, minimizing the chances of missing relevant cases."
   ]
  },
  {
   "cell_type": "code",
   "execution_count": null,
   "id": "unsigned-kazakhstan",
   "metadata": {},
   "outputs": [],
   "source": []
  }
 ],
 "metadata": {
  "kernelspec": {
   "display_name": "Python 3",
   "language": "python",
   "name": "python3"
  },
  "language_info": {
   "codemirror_mode": {
    "name": "ipython",
    "version": 3
   },
   "file_extension": ".py",
   "mimetype": "text/x-python",
   "name": "python",
   "nbconvert_exporter": "python",
   "pygments_lexer": "ipython3",
   "version": "3.9.2"
  }
 },
 "nbformat": 4,
 "nbformat_minor": 5
}
